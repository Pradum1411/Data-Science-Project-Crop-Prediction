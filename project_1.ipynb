{
 "cells": [
  {
   "cell_type": "code",
   "execution_count": 2,
   "id": "5570f86a",
   "metadata": {},
   "outputs": [],
   "source": [
    "# for manipulations\n",
    "import numpy as nd\n",
    "import pandas as pd\n",
    "\n",
    "# for data visualizations\n",
    "import matplotlib.pyplot as plt\n",
    "import seaborn as sbs\n",
    "\n",
    "# for intractivity\n",
    "from ipywidgets import interact "
   ]
  },
  {
   "cell_type": "code",
   "execution_count": 3,
   "id": "c5e722a5",
   "metadata": {},
   "outputs": [],
   "source": [
    "# read the dataset\n",
    "data=pd.read_csv(\"dataset_1.csv\")"
   ]
  },
  {
   "cell_type": "code",
   "execution_count": 4,
   "id": "04908b96",
   "metadata": {},
   "outputs": [
    {
     "name": "stdout",
     "output_type": "stream",
     "text": [
      "Shape of the dataset: (2200, 8)\n"
     ]
    }
   ],
   "source": [
    "# check the shape of the dataset(row,column)\n",
    "print(\"Shape of the dataset:\",data.shape)"
   ]
  },
  {
   "cell_type": "code",
   "execution_count": 5,
   "id": "9064fcf3",
   "metadata": {},
   "outputs": [
    {
     "data": {
      "text/html": [
       "<div>\n",
       "<style scoped>\n",
       "    .dataframe tbody tr th:only-of-type {\n",
       "        vertical-align: middle;\n",
       "    }\n",
       "\n",
       "    .dataframe tbody tr th {\n",
       "        vertical-align: top;\n",
       "    }\n",
       "\n",
       "    .dataframe thead th {\n",
       "        text-align: right;\n",
       "    }\n",
       "</style>\n",
       "<table border=\"1\" class=\"dataframe\">\n",
       "  <thead>\n",
       "    <tr style=\"text-align: right;\">\n",
       "      <th></th>\n",
       "      <th>N</th>\n",
       "      <th>P</th>\n",
       "      <th>K</th>\n",
       "      <th>temperature</th>\n",
       "      <th>humidity</th>\n",
       "      <th>ph</th>\n",
       "      <th>rainfall</th>\n",
       "      <th>label</th>\n",
       "    </tr>\n",
       "  </thead>\n",
       "  <tbody>\n",
       "    <tr>\n",
       "      <th>0</th>\n",
       "      <td>90</td>\n",
       "      <td>42</td>\n",
       "      <td>43</td>\n",
       "      <td>20.879744</td>\n",
       "      <td>82.002744</td>\n",
       "      <td>6.502985</td>\n",
       "      <td>202.935536</td>\n",
       "      <td>rice</td>\n",
       "    </tr>\n",
       "    <tr>\n",
       "      <th>1</th>\n",
       "      <td>85</td>\n",
       "      <td>58</td>\n",
       "      <td>41</td>\n",
       "      <td>21.770462</td>\n",
       "      <td>80.319644</td>\n",
       "      <td>7.038096</td>\n",
       "      <td>226.655537</td>\n",
       "      <td>rice</td>\n",
       "    </tr>\n",
       "    <tr>\n",
       "      <th>2</th>\n",
       "      <td>60</td>\n",
       "      <td>55</td>\n",
       "      <td>44</td>\n",
       "      <td>23.004459</td>\n",
       "      <td>82.320763</td>\n",
       "      <td>7.840207</td>\n",
       "      <td>263.964248</td>\n",
       "      <td>rice</td>\n",
       "    </tr>\n",
       "    <tr>\n",
       "      <th>3</th>\n",
       "      <td>74</td>\n",
       "      <td>35</td>\n",
       "      <td>40</td>\n",
       "      <td>26.491096</td>\n",
       "      <td>80.158363</td>\n",
       "      <td>6.980401</td>\n",
       "      <td>242.864034</td>\n",
       "      <td>rice</td>\n",
       "    </tr>\n",
       "    <tr>\n",
       "      <th>4</th>\n",
       "      <td>78</td>\n",
       "      <td>42</td>\n",
       "      <td>42</td>\n",
       "      <td>20.130175</td>\n",
       "      <td>81.604873</td>\n",
       "      <td>7.628473</td>\n",
       "      <td>262.717340</td>\n",
       "      <td>rice</td>\n",
       "    </tr>\n",
       "  </tbody>\n",
       "</table>\n",
       "</div>"
      ],
      "text/plain": [
       "    N   P   K  temperature   humidity        ph    rainfall label\n",
       "0  90  42  43    20.879744  82.002744  6.502985  202.935536  rice\n",
       "1  85  58  41    21.770462  80.319644  7.038096  226.655537  rice\n",
       "2  60  55  44    23.004459  82.320763  7.840207  263.964248  rice\n",
       "3  74  35  40    26.491096  80.158363  6.980401  242.864034  rice\n",
       "4  78  42  42    20.130175  81.604873  7.628473  262.717340  rice"
      ]
     },
     "execution_count": 5,
     "metadata": {},
     "output_type": "execute_result"
    }
   ],
   "source": [
    "# check the head of the dataset\n",
    "data.head()"
   ]
  },
  {
   "cell_type": "code",
   "execution_count": 6,
   "id": "58c7a41f",
   "metadata": {},
   "outputs": [
    {
     "data": {
      "text/plain": [
       "N              0\n",
       "P              0\n",
       "K              0\n",
       "temperature    0\n",
       "humidity       0\n",
       "ph             0\n",
       "rainfall       0\n",
       "label          0\n",
       "dtype: int64"
      ]
     },
     "execution_count": 6,
     "metadata": {},
     "output_type": "execute_result"
    }
   ],
   "source": [
    "# check missing value in the dataset\n",
    "# \n",
    "data.isnull().sum()"
   ]
  },
  {
   "cell_type": "code",
   "execution_count": 7,
   "id": "5c2878c9",
   "metadata": {},
   "outputs": [
    {
     "data": {
      "text/plain": [
       "rice           100\n",
       "maize          100\n",
       "jute           100\n",
       "cotton         100\n",
       "coconut        100\n",
       "papaya         100\n",
       "orange         100\n",
       "apple          100\n",
       "muskmelon      100\n",
       "watermelon     100\n",
       "grapes         100\n",
       "mango          100\n",
       "banana         100\n",
       "pomegranate    100\n",
       "lentil         100\n",
       "blackgram      100\n",
       "mungbean       100\n",
       "mothbeans      100\n",
       "pigeonpeas     100\n",
       "kidneybeans    100\n",
       "chickpea       100\n",
       "coffee         100\n",
       "Name: label, dtype: int64"
      ]
     },
     "execution_count": 7,
     "metadata": {},
     "output_type": "execute_result"
    }
   ],
   "source": [
    "# check crop present in this dataset\n",
    "data[\"label\"].value_counts()"
   ]
  },
  {
   "cell_type": "code",
   "execution_count": 8,
   "id": "3d98534f",
   "metadata": {},
   "outputs": [
    {
     "name": "stdout",
     "output_type": "stream",
     "text": [
      "Average Ratio of Nitrogen in the Soil : 50.55\n",
      "Average Ratio of Phosphorous in the Soil : 53.36\n",
      "Average Ratio of Potassium in the Soil : 48.15\n",
      "Average Temperature in Celsius : 25.62\n",
      "Average PH value of the soil : 6.47\n",
      "Average Humidity : 71.48\n",
      "Average Rainfall : 103.46\n"
     ]
    }
   ],
   "source": [
    "# check the summary for all the crops\n",
    "print(\"Average Ratio of Nitrogen in the Soil : {0:.2f}\".format(data[\"N\"].mean()))\n",
    "print(\"Average Ratio of Phosphorous in the Soil : {0:.2f}\".format(data[\"P\"].mean()))\n",
    "print(\"Average Ratio of Potassium in the Soil : {0:.2f}\".format(data[\"K\"].mean()))\n",
    "print(\"Average Temperature in Celsius : {0:.2f}\".format(data[\"temperature\"].mean()))\n",
    "print(\"Average PH value of the soil : {0:.2f}\".format(data[\"ph\"].mean()))\n",
    "print(\"Average Humidity : {0:.2f}\".format(data[\"humidity\"].mean()))\n",
    "print(\"Average Rainfall : {0:.2f}\".format(data[\"rainfall\"].mean()))"
   ]
  },
  {
   "cell_type": "code",
   "execution_count": 26,
   "id": "dbbee6cf",
   "metadata": {},
   "outputs": [
    {
     "data": {
      "application/vnd.jupyter.widget-view+json": {
       "model_id": "807ccd87aec446178a9eb9d583e3b813",
       "version_major": 2,
       "version_minor": 0
      },
      "text/plain": [
       "interactive(children=(Dropdown(description='crops', options=('rice', 'maize', 'jute', 'cotton', 'coconut', 'pa…"
      ]
     },
     "metadata": {},
     "output_type": "display_data"
    }
   ],
   "source": [
    "# check the summary statistics for each of the crop\n",
    "@interact\n",
    "def summary(crops=list(data[\"label\"].value_counts().index)):\n",
    "    x=data[data[\"label\"]==crops]\n",
    "    print(\"............................................\")\n",
    "    print(\"Statistics for Nitrogen\")\n",
    "    print(\"Minimun Nitrogen Required :\",x[\"N\"].min())\n",
    "    print(\"Average Nitrogen Required :\",x[\"N\"].mean())\n",
    "    print(\"Maximum Nitrogen Required :\",x[\"N\"].max())\n",
    "    print(\"............................................\")\n",
    "    print(\"Statistics for Phosphorous\")\n",
    "    print(\"Minimun Phosphorous Required :\",x[\"P\"].min())\n",
    "    print(\"Average Phosphorous Required :\",x[\"P\"].mean())\n",
    "    print(\"Maximum Phosphorous Required :\",x[\"P\"].max())\n",
    "    print(\"............................................\")\n",
    "    print(\"Statistics for Potassium\")\n",
    "    print(\"Minimun Potassium Required :\",x[\"K\"].min())\n",
    "    print(\"Average Potassium Required :\",x[\"K\"].mean())\n",
    "    print(\"Maximum Potassium Required :\",x[\"K\"].max())\n",
    "    print(\"............................................\")\n",
    "    print(\"Statistics for Temperature\")\n",
    "    print(\"Minimun Temperature Required :\",x[\"temperature\"].min())\n",
    "    print(\"Average Temperature Required :\",x[\"temperature\"].mean())\n",
    "    print(\"Maximum Temperature Required :\",x[\"temperature\"].max())\n",
    "    print(\"............................................\")\n",
    "    print(\"Statistics for Humidity\")\n",
    "    print(\"Minimun Humidity Required :\",x[\"humidity\"].min())\n",
    "    print(\"Average Humidity Required :\",x[\"humidity\"].mean())\n",
    "    print(\"Maximum Humidity Required :\",x[\"humidity\"].max())\n",
    "    print(\"............................................\")\n",
    "    print(\"Statistics for PH\")\n",
    "    print(\"Minimun PH Required :\",x[\"ph\"].min())\n",
    "    print(\"Average PH Required :\",x[\"ph\"].mean())\n",
    "    print(\"Maximum PH Required :\",x[\"ph\"].max())\n",
    "    print(\"............................................\")\n",
    "    print(\"Statistics for Rainfall\")\n",
    "    print(\"Minimun Rainfall Required :\",x[\"rainfall\"].min())\n",
    "    print(\"Average Rainfall Required :\",x[\"rainfall\"].mean())\n",
    "    print(\"Maximum Rainfall Required :\",x[\"rainfall\"].max())\n",
    "    "
   ]
  },
  {
   "cell_type": "code",
   "execution_count": 27,
   "id": "76de9459",
   "metadata": {},
   "outputs": [
    {
     "data": {
      "application/vnd.jupyter.widget-view+json": {
       "model_id": "a6408ba9bea04dcfad49cea723a97e15",
       "version_major": 2,
       "version_minor": 0
      },
      "text/plain": [
       "interactive(children=(Dropdown(description='conditions', options=('N', 'P', 'K', 'temperature', 'humidity', 'p…"
      ]
     },
     "metadata": {},
     "output_type": "display_data"
    }
   ],
   "source": [
    "# compare the Average Requirement for each crops with average conditions\n",
    "@interact\n",
    "def compare(conditions=[\"N\",\"P\",\"K\",\"temperature\",\"humidity\",\"ph\",\"rainfall\"]):\n",
    "    print(\"Average value for\",conditions,\"is {0:.2f}\".format(data[conditions].mean()))\n",
    "    print(\"....................................................................\")\n",
    "    print(\"Rice : {0:.2f}\".format(data[data[\"label\"]==\"rice\"][conditions].mean()))\n",
    "    print(\"Maize : {0:.2f}\".format(data[data[\"label\"]==\"maize\"][conditions].mean()))\n",
    "    print(\"Jute : {0:.2f}\".format(data[data[\"label\"]==\"jute\"][conditions].mean()))\n",
    "    print(\"Cotton : {0:.2f}\".format(data[data[\"label\"]==\"cotton\"][conditions].mean()))\n",
    "    print(\"Coconut : {0:.2f}\".format(data[data[\"label\"]==\"coconut\"][conditions].mean()))\n",
    "    print(\"Papaya : {0:.2f}\".format(data[data[\"label\"]==\"papaya\"][conditions].mean()))\n",
    "    print(\"Orange : {0:.2f}\".format(data[data[\"label\"]==\"orange\"][conditions].mean()))\n",
    "    print(\"Apple : {0:.2f}\".format(data[data[\"label\"]==\"apple\"][conditions].mean()))\n",
    "    print(\"Muskmelon : {0:.2f}\".format(data[data[\"label\"]==\"muskmelon\"][conditions].mean()))\n",
    "    print(\"Watermelon : {0:.2f}\".format(data[data[\"label\"]==\"watermelon\"][conditions].mean()))\n",
    "    print(\"Grapes : {0:.2f}\".format(data[data[\"label\"]==\"grapes\"][conditions].mean()))\n",
    "    print(\"Mangos : {0:.2f}\".format(data[data[\"label\"]==\"mango\"][conditions].mean()))\n",
    "    print(\"Banana : {0:.2f}\".format(data[data[\"label\"]==\"banana\"][conditions].mean()))\n",
    "    print(\"Pomegranate : {0:.2f}\".format(data[data[\"label\"]==\"pomegranate\"][conditions].mean()))\n",
    "    print(\"Lentil : {0:.2f}\".format(data[data[\"label\"]==\"lentil\"][conditions].mean()))\n",
    "    print(\"Blackgram : {0:.2f}\".format(data[data[\"label\"]==\"blackgram\"][conditions].mean()))\n",
    "    print(\"Mungbean : {0:.2f}\".format(data[data[\"label\"]==\"mungbean\"][conditions].mean()))\n",
    "    print(\"Mothbeans : {0:.2f}\".format(data[data[\"label\"]==\"mothbeans\"][conditions].mean()))\n",
    "    print(\"Pigeonpeas : {0:.2f}\".format(data[data[\"label\"]==\"pigeonpeas\"][conditions].mean()))\n",
    "    print(\"Kidneybeans : {0:.2f}\".format(data[data[\"label\"]==\"kidneybeans\"][conditions].mean()))\n",
    "    print(\"Chickpea : {0:.2f}\".format(data[data[\"label\"]==\"chickpea\"][conditions].mean()))\n",
    "    print(\"Coffee : {0:.2f}\".format(data[data[\"label\"]==\"coffee\"][conditions].mean()))\n",
    "    "
   ]
  },
  {
   "cell_type": "code",
   "execution_count": 28,
   "id": "8e7cd011",
   "metadata": {},
   "outputs": [
    {
     "data": {
      "application/vnd.jupyter.widget-view+json": {
       "model_id": "5046f87144724c82b0ff62458043187b",
       "version_major": 2,
       "version_minor": 0
      },
      "text/plain": [
       "interactive(children=(Dropdown(description='conditions', options=('N', 'P', 'K', 'temperature', 'humidity', 'p…"
      ]
     },
     "metadata": {},
     "output_type": "display_data"
    }
   ],
   "source": [
    "@interact\n",
    "def compare(conditions=[\"N\",\"P\",\"K\",\"temperature\",\"humidity\",\"ph\",\"rainfall\"]):\n",
    "    print(\"crops which require greater than average\",conditions)\n",
    "    print(\"...........................................\")\n",
    "    print(data[data[conditions]>data[conditions].mean()][\"label\"].unique(),\"\\n\")\n",
    "    print(\"crops which require less than average\",conditions)\n",
    "    print(\".............................................\")\n",
    "    print(data[data[conditions]<=data[conditions].mean()][\"label\"].unique())"
   ]
  },
  {
   "cell_type": "code",
   "execution_count": 12,
   "id": "ad727c5a",
   "metadata": {},
   "outputs": [
    {
     "name": "stderr",
     "output_type": "stream",
     "text": [
      "C:\\Users\\dee\\anaconda3\\lib\\site-packages\\seaborn\\distributions.py:2619: FutureWarning: `distplot` is a deprecated function and will be removed in a future version. Please adapt your code to use either `displot` (a figure-level function with similar flexibility) or `histplot` (an axes-level function for histograms).\n",
      "  warnings.warn(msg, FutureWarning)\n"
     ]
    },
    {
     "name": "stdout",
     "output_type": "stream",
     "text": [
      "\n",
      "\n"
     ]
    },
    {
     "name": "stderr",
     "output_type": "stream",
     "text": [
      "C:\\Users\\dee\\anaconda3\\lib\\site-packages\\seaborn\\distributions.py:2619: FutureWarning: `distplot` is a deprecated function and will be removed in a future version. Please adapt your code to use either `displot` (a figure-level function with similar flexibility) or `histplot` (an axes-level function for histograms).\n",
      "  warnings.warn(msg, FutureWarning)\n",
      "C:\\Users\\dee\\anaconda3\\lib\\site-packages\\seaborn\\distributions.py:2619: FutureWarning: `distplot` is a deprecated function and will be removed in a future version. Please adapt your code to use either `displot` (a figure-level function with similar flexibility) or `histplot` (an axes-level function for histograms).\n",
      "  warnings.warn(msg, FutureWarning)\n",
      "C:\\Users\\dee\\anaconda3\\lib\\site-packages\\seaborn\\distributions.py:2619: FutureWarning: `distplot` is a deprecated function and will be removed in a future version. Please adapt your code to use either `displot` (a figure-level function with similar flexibility) or `histplot` (an axes-level function for histograms).\n",
      "  warnings.warn(msg, FutureWarning)\n",
      "C:\\Users\\dee\\anaconda3\\lib\\site-packages\\seaborn\\distributions.py:2619: FutureWarning: `distplot` is a deprecated function and will be removed in a future version. Please adapt your code to use either `displot` (a figure-level function with similar flexibility) or `histplot` (an axes-level function for histograms).\n",
      "  warnings.warn(msg, FutureWarning)\n"
     ]
    },
    {
     "data": {
      "image/png": "[encoded data removed]",
      "text/plain": [
       "<Figure size 432x288 with 5 Axes>"
      ]
     },
     "metadata": {
      "needs_background": "light"
     },
     "output_type": "display_data"
    }
   ],
   "source": [
    "plt.subplot(3,3,1)\n",
    "sbs.distplot(data[\"N\"],color=\"black\")\n",
    "plt.xlabel(\"Nitrogen\",fontsize=12)\n",
    "plt.grid()\n",
    "print(\"\\n\")\n",
    "plt.subplot(3,3,2)\n",
    "sbs.distplot(data[\"P\"],color=\"red\")\n",
    "plt.xlabel(\"Phosphorous\",fontsize=12)\n",
    "plt.grid()\n",
    "plt.subplot(3,3,3)\n",
    "sbs.distplot(data[\"K\"],color=\"green\")\n",
    "plt.xlabel(\"Potassium\",fontsize=12)\n",
    "plt.grid()\n",
    "plt.subplot(3,3,4)\n",
    "sbs.distplot(data[\"temperature\"],color=\"blue\")\n",
    "plt.xlabel(\"Temperature\",fontsize=12)\n",
    "plt.grid()\n",
    "plt.subplot(3,3,5)\n",
    "sbs.distplot(data[\"humidity\"],color=\"yellow\")\n",
    "plt.xlabel(\"Humidity\",fontsize=12)\n",
    "plt.grid()"
   ]
  },
  {
   "cell_type": "code",
   "execution_count": 13,
   "id": "2abb17d2",
   "metadata": {},
   "outputs": [
    {
     "name": "stdout",
     "output_type": "stream",
     "text": [
      "Some interesting pattern\n",
      "...........................................\n",
      "Crops which requires very high Ratio of Nitrogen Content in soil: ['cotton']\n",
      "Crops which requires very high Ratio of Phosphorous Content in soil: ['grapes' 'apple']\n",
      "Crops which requires very high Ratio of Potassium Content in soil: ['grapes' 'apple']\n",
      "Crops which requires very high Rainfall: ['rice' 'papaya' 'coconut']\n",
      "Crops which requires very high Temperature: ['grapes' 'papaya']\n",
      "Crops which requires very Low Humidity: ['chickpea' 'kidneybeans']\n",
      "Crops which requires very high PH: ['mothbeans']\n"
     ]
    }
   ],
   "source": [
    "print(\"Some interesting pattern\")\n",
    "print(\"...........................................\")\n",
    "print(\"Crops which requires very high Ratio of Nitrogen Content in soil:\",data[data[\"N\"]>120][\"label\"].unique())\n",
    "print(\"Crops which requires very high Ratio of Phosphorous Content in soil:\",data[data[\"P\"]>100][\"label\"].unique())\n",
    "print(\"Crops which requires very high Ratio of Potassium Content in soil:\",data[data[\"K\"]>200][\"label\"].unique())\n",
    "print(\"Crops which requires very high Rainfall:\",data[data[\"rainfall\"]>200][\"label\"].unique())\n",
    "print(\"Crops which requires very high Temperature:\",data[data[\"temperature\"]>40][\"label\"].unique())\n",
    "print(\"Crops which requires very Low Humidity:\",data[data[\"humidity\"]<20][\"label\"].unique())\n",
    "print(\"Crops which requires very high PH:\",data[data[\"ph\"]>9][\"label\"].unique())\n"
   ]
  },
  {
   "cell_type": "code",
   "execution_count": 14,
   "id": "1c6959a3",
   "metadata": {},
   "outputs": [
    {
     "name": "stdout",
     "output_type": "stream",
     "text": [
      "Summer Crops\n",
      "['pigeonpeas' 'mothbeans' 'blackgram' 'mango' 'grapes' 'orange' 'papaya']\n",
      "................................................................\n",
      "Winter Crops\n",
      "['maize' 'pigeonpeas' 'lentil' 'pomegranate' 'grapes' 'orange']\n",
      "................................................................\n",
      "Rainy Crops\n",
      "['rice' 'papaya' 'coconut']\n"
     ]
    }
   ],
   "source": [
    "# Which crops can only be grown in Summer Season, Winter season And Rainy season\n",
    "print(\"Summer Crops\")\n",
    "print(data[(data[\"temperature\"]>30)&(data[\"humidity\"]>50)][\"label\"].unique())\n",
    "print(\"................................................................\")\n",
    "print(\"Winter Crops\")\n",
    "print(data[(data[\"temperature\"]<20)&(data[\"humidity\"]>30)][\"label\"].unique())\n",
    "print(\"................................................................\")\n",
    "print(\"Rainy Crops\")\n",
    "print(data[(data[\"rainfall\"]>200)&(data[\"humidity\"]>30)][\"label\"].unique())"
   ]
  },
  {
   "cell_type": "code",
   "execution_count": 15,
   "id": "6d8f2a02",
   "metadata": {},
   "outputs": [
    {
     "name": "stdout",
     "output_type": "stream",
     "text": [
      "(2200, 7)\n"
     ]
    }
   ],
   "source": [
    "# unsuperwised Learning\n",
    "from sklearn.cluster import KMeans\n",
    "# remove the lebel column\n",
    "x=data.drop([\"label\"],axis=1)\n",
    "# selecting all values of dataset\n",
    "x=x.values\n",
    "# checking tha shape\n",
    "print(x.shape)\n"
   ]
  },
  {
   "cell_type": "code",
   "execution_count": 16,
   "id": "c08a0a2e",
   "metadata": {},
   "outputs": [],
   "source": [
    "# determine the optimum number of cluster within the database\n",
    "plt.rcParams[\"figure.figsize\"]=(10,4)\n",
    "wcss=[]\n",
    "for i in range(1,11):\n",
    "    km=KMeans(n_clusters=i,init=\"k-means++\",max_iter=300,n_init=10,random_state=0)\n",
    "    km.fit(x)\n",
    "    wcss.append(km.inertia_)"
   ]
  },
  {
   "cell_type": "code",
   "execution_count": 17,
   "id": "f88548b2",
   "metadata": {},
   "outputs": [
    {
     "data": {
      "image/png": "[encoded data removed]",
      "text/plain": [
       "<Figure size 720x288 with 1 Axes>"
      ]
     },
     "metadata": {
      "needs_background": "light"
     },
     "output_type": "display_data"
    }
   ],
   "source": [
    "# plot the result(4)\n",
    "plt.plot(range(1,11),wcss)\n",
    "plt.title(\"The Elbow Methoid\",fontsize=20)\n",
    "plt.xlabel(\"No of cluster\")\n",
    "plt.ylabel(\"wcss\")\n",
    "plt.show()"
   ]
  },
  {
   "cell_type": "code",
   "execution_count": 18,
   "id": "feb2769c",
   "metadata": {},
   "outputs": [
    {
     "name": "stdout",
     "output_type": "stream",
     "text": [
      "Lets check the result after applying the k-means clustering analysis\n",
      "\n",
      "Crops in First cluster : ['maize' 'chickpea' 'kidneybeans' 'pigeonpeas' 'mothbeans' 'mungbean'\n",
      " 'blackgram' 'lentil' 'pomegranate' 'mango' 'orange' 'papaya' 'coconut']\n",
      ".....................................................\n",
      "Crops in Second cluster : ['maize' 'banana' 'watermelon' 'muskmelon' 'papaya' 'cotton' 'coffee']\n",
      ".....................................................\n",
      "Crops in Third cluster : ['grapes' 'apple']\n",
      ".....................................................\n",
      "Crops in Fourth cluster : ['rice' 'pigeonpeas' 'papaya' 'coconut' 'jute' 'coffee']\n"
     ]
    }
   ],
   "source": [
    "# implement the K-mean algoeiths to perforn\\m clustering analysis\n",
    "km=KMeans(n_clusters=4,init=\"k-means++\",max_iter=300,n_init=10,random_state=0)\n",
    "y_means=km.fit_predict(x)\n",
    "# find out the result\n",
    "a=data[\"label\"]\n",
    "y_means=pd.DataFrame(y_means)\n",
    "z=pd.concat([y_means,a],axis=1)\n",
    "z=z.rename(columns={0:\"clusters\"})\n",
    "# check the cluster of each crops\n",
    "print(\"Lets check the result after applying the k-means clustering analysis\\n\")\n",
    "print(\"Crops in First cluster :\",z[z[\"clusters\"]==0][\"label\"].unique())\n",
    "print(\".....................................................\")\n",
    "print(\"Crops in Second cluster :\",z[z[\"clusters\"]==1][\"label\"].unique())\n",
    "print(\".....................................................\")\n",
    "print(\"Crops in Third cluster :\",z[z[\"clusters\"]==2][\"label\"].unique())\n",
    "print(\".....................................................\")\n",
    "print(\"Crops in Fourth cluster :\",z[z[\"clusters\"]==3][\"label\"].unique())\n"
   ]
  },
  {
   "cell_type": "code",
   "execution_count": 19,
   "id": "90aa53e8",
   "metadata": {},
   "outputs": [
    {
     "name": "stdout",
     "output_type": "stream",
     "text": [
      "Shape of x: (2200, 7)\n",
      "Shape of y: (2200,)\n"
     ]
    }
   ],
   "source": [
    "# split the datset for preictive modeling\n",
    "y=data[\"label\"]\n",
    "x=data.drop([\"label\"],axis=1)\n",
    "print(\"Shape of x:\",x.shape)\n",
    "print(\"Shape of y:\",y.shape)"
   ]
  },
  {
   "cell_type": "code",
   "execution_count": 20,
   "id": "92fd46ec",
   "metadata": {},
   "outputs": [
    {
     "name": "stdout",
     "output_type": "stream",
     "text": [
      "The shape of x_train : (1760, 7)\n",
      "The shape of x_test : (440, 7)\n",
      "The shape of y_train : (1760,)\n",
      "The shape of y_test : (440,)\n"
     ]
    }
   ],
   "source": [
    "# lets create training and testing sets for validation of result \n",
    "from sklearn.model_selection import train_test_split\n",
    "x_train,x_test,y_train,y_test=train_test_split(x,y,test_size=0.2,random_state=0)\n",
    "print(\"The shape of x_train :\",x_train.shape)\n",
    "print(\"The shape of x_test :\",x_test.shape)\n",
    "print(\"The shape of y_train :\",y_train.shape)\n",
    "print(\"The shape of y_test :\",y_test.shape)"
   ]
  },
  {
   "cell_type": "code",
   "execution_count": 21,
   "id": "cc825eac",
   "metadata": {},
   "outputs": [
    {
     "name": "stderr",
     "output_type": "stream",
     "text": [
      "C:\\Users\\dee\\anaconda3\\lib\\site-packages\\sklearn\\linear_model\\_logistic.py:814: ConvergenceWarning: lbfgs failed to converge (status=1):\n",
      "STOP: TOTAL NO. of ITERATIONS REACHED LIMIT.\n",
      "\n",
      "Increase the number of iterations (max_iter) or scale the data as shown in:\n",
      "    https://scikit-learn.org/stable/modules/preprocessing.html\n",
      "Please also refer to the documentation for alternative solver options:\n",
      "    https://scikit-learn.org/stable/modules/linear_model.html#logistic-regression\n",
      "  n_iter_i = _check_optimize_result(\n"
     ]
    }
   ],
   "source": [
    "# create a predictive model\n",
    "from sklearn.linear_model import LogisticRegression\n",
    "Model=LogisticRegression()\n",
    "Model.fit(x_train,y_train)\n",
    "y_pred=Model.predict(x_test)"
   ]
  },
  {
   "cell_type": "code",
   "execution_count": 22,
   "id": "cd6fae77",
   "metadata": {},
   "outputs": [
    {
     "data": {
      "image/png": "[encoded data removed]",
      "text/plain": [
       "<Figure size 720x720 with 2 Axes>"
      ]
     },
     "metadata": {
      "needs_background": "light"
     },
     "output_type": "display_data"
    }
   ],
   "source": [
    "# evaluate the model performance \n",
    "from sklearn.metrics import confusion_matrix\n",
    "# print the confusion metrix first\n",
    "plt.rcParams[\"figure.figsize\"]=(10,10)\n",
    "cn=confusion_matrix(y_test,y_pred)\n",
    "sbs.heatmap(cn,annot=True,cmap=\"Wistia\")\n",
    "plt.title(\"Confusion matrix for Logistic Regression\",fontsize=15)\n",
    "plt.show()"
   ]
  },
  {
   "cell_type": "code",
   "execution_count": 23,
   "id": "7a86ea62",
   "metadata": {},
   "outputs": [
    {
     "ename": "NameError",
     "evalue": "name 'sklearn' is not defined",
     "output_type": "error",
     "traceback": [
      "\u001b[1;31m---------------------------------------------------------------------------\u001b[0m",
      "\u001b[1;31mNameError\u001b[0m                                 Traceback (most recent call last)",
      "Input \u001b[1;32mIn [23]\u001b[0m, in \u001b[0;36m<cell line: 2>\u001b[1;34m()\u001b[0m\n\u001b[0;32m      1\u001b[0m \u001b[38;5;66;03m# print the clsassification report\u001b[39;00m\n\u001b[1;32m----> 2\u001b[0m cr\u001b[38;5;241m=\u001b[39m\u001b[43msklearn\u001b[49m\u001b[38;5;241m.\u001b[39mmetrics\u001b[38;5;241m.\u001b[39mclassification_report(y_test,y_pred)\n\u001b[0;32m      3\u001b[0m \u001b[38;5;66;03m# cr=classification_report(y_test,y_pred)\u001b[39;00m\n\u001b[0;32m      4\u001b[0m \u001b[38;5;28mprint\u001b[39m(cr)\n",
      "\u001b[1;31mNameError\u001b[0m: name 'sklearn' is not defined"
     ]
    }
   ],
   "source": [
    "# print the clsassification report\n",
    "cr=sklearn.metrics.classification_report(y_test,y_pred)\n",
    "# cr=classification_report(y_test,y_pred)\n",
    "print(cr)"
   ]
  },
  {
   "cell_type": "code",
   "execution_count": 25,
   "id": "d9a625c0",
   "metadata": {},
   "outputs": [
    {
     "data": {
      "text/html": [
       "<div>\n",
       "<style scoped>\n",
       "    .dataframe tbody tr th:only-of-type {\n",
       "        vertical-align: middle;\n",
       "    }\n",
       "\n",
       "    .dataframe tbody tr th {\n",
       "        vertical-align: top;\n",
       "    }\n",
       "\n",
       "    .dataframe thead th {\n",
       "        text-align: right;\n",
       "    }\n",
       "</style>\n",
       "<table border=\"1\" class=\"dataframe\">\n",
       "  <thead>\n",
       "    <tr style=\"text-align: right;\">\n",
       "      <th></th>\n",
       "      <th>N</th>\n",
       "      <th>P</th>\n",
       "      <th>K</th>\n",
       "      <th>temperature</th>\n",
       "      <th>humidity</th>\n",
       "      <th>ph</th>\n",
       "      <th>rainfall</th>\n",
       "      <th>label</th>\n",
       "    </tr>\n",
       "  </thead>\n",
       "  <tbody>\n",
       "    <tr>\n",
       "      <th>0</th>\n",
       "      <td>90</td>\n",
       "      <td>42</td>\n",
       "      <td>43</td>\n",
       "      <td>20.879744</td>\n",
       "      <td>82.002744</td>\n",
       "      <td>6.502985</td>\n",
       "      <td>202.935536</td>\n",
       "      <td>rice</td>\n",
       "    </tr>\n",
       "    <tr>\n",
       "      <th>1</th>\n",
       "      <td>85</td>\n",
       "      <td>58</td>\n",
       "      <td>41</td>\n",
       "      <td>21.770462</td>\n",
       "      <td>80.319644</td>\n",
       "      <td>7.038096</td>\n",
       "      <td>226.655537</td>\n",
       "      <td>rice</td>\n",
       "    </tr>\n",
       "    <tr>\n",
       "      <th>2</th>\n",
       "      <td>60</td>\n",
       "      <td>55</td>\n",
       "      <td>44</td>\n",
       "      <td>23.004459</td>\n",
       "      <td>82.320763</td>\n",
       "      <td>7.840207</td>\n",
       "      <td>263.964248</td>\n",
       "      <td>rice</td>\n",
       "    </tr>\n",
       "    <tr>\n",
       "      <th>3</th>\n",
       "      <td>74</td>\n",
       "      <td>35</td>\n",
       "      <td>40</td>\n",
       "      <td>26.491096</td>\n",
       "      <td>80.158363</td>\n",
       "      <td>6.980401</td>\n",
       "      <td>242.864034</td>\n",
       "      <td>rice</td>\n",
       "    </tr>\n",
       "    <tr>\n",
       "      <th>4</th>\n",
       "      <td>78</td>\n",
       "      <td>42</td>\n",
       "      <td>42</td>\n",
       "      <td>20.130175</td>\n",
       "      <td>81.604873</td>\n",
       "      <td>7.628473</td>\n",
       "      <td>262.717340</td>\n",
       "      <td>rice</td>\n",
       "    </tr>\n",
       "  </tbody>\n",
       "</table>\n",
       "</div>"
      ],
      "text/plain": [
       "    N   P   K  temperature   humidity        ph    rainfall label\n",
       "0  90  42  43    20.879744  82.002744  6.502985  202.935536  rice\n",
       "1  85  58  41    21.770462  80.319644  7.038096  226.655537  rice\n",
       "2  60  55  44    23.004459  82.320763  7.840207  263.964248  rice\n",
       "3  74  35  40    26.491096  80.158363  6.980401  242.864034  rice\n",
       "4  78  42  42    20.130175  81.604873  7.628473  262.717340  rice"
      ]
     },
     "execution_count": 25,
     "metadata": {},
     "output_type": "execute_result"
    }
   ],
   "source": [
    "data.head()"
   ]
  },
  {
   "cell_type": "code",
   "execution_count": 24,
   "id": "440cdb7b",
   "metadata": {},
   "outputs": [
    {
     "name": "stdout",
     "output_type": "stream",
     "text": [
      "The suggested Crop for given climatic condition is: ['rice']\n"
     ]
    },
    {
     "name": "stderr",
     "output_type": "stream",
     "text": [
      "C:\\Users\\dee\\anaconda3\\lib\\site-packages\\sklearn\\base.py:450: UserWarning: X does not have valid feature names, but LogisticRegression was fitted with feature names\n",
      "  warnings.warn(\n"
     ]
    }
   ],
   "source": [
    "prediction=Model.predict(nd.array([[90,40,40,20,80,7,200]]))\n",
    "print(\"The suggested Crop for given climatic condition is:\",prediction)"
   ]
  },
  {
   "cell_type": "code",
   "execution_count": null,
   "id": "f679ff24",
   "metadata": {},
   "outputs": [],
   "source": []
  },
  {
   "cell_type": "code",
   "execution_count": null,
   "id": "37632207",
   "metadata": {},
   "outputs": [],
   "source": []
  }
 ],
 "metadata": {
  "kernelspec": {
   "display_name": "Python 3 (ipykernel)",
   "language": "python",
   "name": "python3"
  },
  "language_info": {
   "codemirror_mode": {
    "name": "ipython",
    "version": 3
   },
   "file_extension": ".py",
   "mimetype": "text/x-python",
   "name": "python",
   "nbconvert_exporter": "python",
   "pygments_lexer": "ipython3",
   "version": "3.9.12"
  }
 },
 "nbformat": 4,
 "nbformat_minor": 5
}
